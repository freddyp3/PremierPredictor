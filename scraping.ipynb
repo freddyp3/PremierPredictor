{
 "cells": [
  {
   "cell_type": "code",
   "execution_count": 1,
   "id": "1a774520-b14a-41b7-852d-755faa5337b1",
   "metadata": {},
   "outputs": [],
   "source": [
    "import requests"
   ]
  },
  {
   "cell_type": "code",
   "execution_count": 2,
   "id": "2e1dac07-5d5e-4e72-af61-88f4cd5e7ba2",
   "metadata": {},
   "outputs": [],
   "source": [
    "prem_data2425 = requests.get(\"https://fbref.com/en/comps/9/Premier-League-Stats\")"
   ]
  },
  {
   "cell_type": "code",
   "execution_count": 3,
   "id": "d24549db-3f18-4252-8d21-9c33bf5e1160",
   "metadata": {},
   "outputs": [],
   "source": [
    "from bs4 import BeautifulSoup"
   ]
  },
  {
   "cell_type": "code",
   "execution_count": 4,
   "id": "d718c8d0-8dc8-46d7-9c2e-287a152fd978",
   "metadata": {},
   "outputs": [
    {
     "ename": "IndexError",
     "evalue": "list index out of range",
     "output_type": "error",
     "traceback": [
      "\u001b[0;31m---------------------------------------------------------------------------\u001b[0m",
      "\u001b[0;31mIndexError\u001b[0m                                Traceback (most recent call last)",
      "Cell \u001b[0;32mIn[4], line 2\u001b[0m\n\u001b[1;32m      1\u001b[0m soup2425 \u001b[38;5;241m=\u001b[39m BeautifulSoup(prem_data2425\u001b[38;5;241m.\u001b[39mtext)\n\u001b[0;32m----> 2\u001b[0m standings_table2425 \u001b[38;5;241m=\u001b[39m \u001b[43msoup2425\u001b[49m\u001b[38;5;241;43m.\u001b[39;49m\u001b[43mselect\u001b[49m\u001b[43m(\u001b[49m\u001b[38;5;124;43m'\u001b[39;49m\u001b[38;5;124;43mtable.stats_table\u001b[39;49m\u001b[38;5;124;43m'\u001b[39;49m\u001b[43m)\u001b[49m\u001b[43m[\u001b[49m\u001b[38;5;241;43m0\u001b[39;49m\u001b[43m]\u001b[49m\n\u001b[1;32m      3\u001b[0m links2425 \u001b[38;5;241m=\u001b[39m standings_table2425\u001b[38;5;241m.\u001b[39mfind_all(\u001b[38;5;124m'\u001b[39m\u001b[38;5;124ma\u001b[39m\u001b[38;5;124m'\u001b[39m)\n\u001b[1;32m      4\u001b[0m links2425 \u001b[38;5;241m=\u001b[39m [l\u001b[38;5;241m.\u001b[39mget(\u001b[38;5;124m\"\u001b[39m\u001b[38;5;124mhref\u001b[39m\u001b[38;5;124m\"\u001b[39m) \u001b[38;5;28;01mfor\u001b[39;00m l \u001b[38;5;129;01min\u001b[39;00m links2425]\n",
      "\u001b[0;31mIndexError\u001b[0m: list index out of range"
     ]
    }
   ],
   "source": [
    "soup2425 = BeautifulSoup(prem_data2425.text)\n",
    "standings_table2425 = soup2425.select('table.stats_table')[0]\n",
    "links2425 = standings_table2425.find_all('a')\n",
    "links2425 = [l.get(\"href\") for l in links2425]\n",
    "links2425 = [l for l in links2425 if '/squads/' in l]"
   ]
  },
  {
   "cell_type": "code",
   "execution_count": null,
   "id": "a9da1396-00ce-4ed9-a57f-32eafa826e9c",
   "metadata": {},
   "outputs": [],
   "source": [
    "team_urls2425 = [f\"https://fbref.com{l}\" for l in links2425]"
   ]
  },
  {
   "cell_type": "code",
   "execution_count": null,
   "id": "3c298055-e1ee-4d0b-b24f-f42d2efdd19e",
   "metadata": {},
   "outputs": [],
   "source": [
    "prem_data2425 = requests.get(team_urls2425[0])"
   ]
  },
  {
   "cell_type": "code",
   "execution_count": null,
   "id": "efde2dc1-b949-477f-b470-a64918825ada",
   "metadata": {},
   "outputs": [],
   "source": [
    "import pandas as pd\n",
    "import io\n",
    "\n",
    "html_content2425 = io.StringIO(prem_data2425.text)\n",
    "matches2425 = pd.read_html(html_content2425, match=\"Scores & Fixtures\")[0]\n",
    "\n",
    "matches2425.head()"
   ]
  },
  {
   "cell_type": "code",
   "execution_count": null,
   "id": "4021bdd7-c34d-477f-9bbd-d57a70a76a3d",
   "metadata": {},
   "outputs": [],
   "source": [
    "soup2425 = BeautifulSoup(prem_data2425.text)\n",
    "links2425 = soup2425.find_all('a')\n",
    "links2425 = [l.get(\"href\") for l in links2425]\n",
    "links2425 = [l for l in links2425 if l and 'all_comps/shooting/' in l]"
   ]
  },
  {
   "cell_type": "code",
   "execution_count": null,
   "id": "6a5871dc-7b74-4c85-bb45-28208949d1b4",
   "metadata": {},
   "outputs": [],
   "source": [
    "prem_data2425 = requests.get(f\"https://fbref.com{links2425[0]}\")"
   ]
  },
  {
   "cell_type": "code",
   "execution_count": null,
   "id": "34dc546f-6ed8-4db9-9f11-3b49d2fc2dff",
   "metadata": {},
   "outputs": [],
   "source": [
    "html_content2425 = io.StringIO(prem_data2425.text)\n",
    "shooting2425 = pd.read_html(html_content2425, match=\"Shooting\")[0]\n",
    "\n",
    "shooting2425.head()"
   ]
  },
  {
   "cell_type": "code",
   "execution_count": null,
   "id": "39350abb-2908-4d6f-8087-17080fe6ff25",
   "metadata": {},
   "outputs": [],
   "source": [
    "shooting2425.columns = shooting2425.columns.droplevel()"
   ]
  },
  {
   "cell_type": "code",
   "execution_count": null,
   "id": "5cca1270-a4e3-4ab4-bda5-615381509092",
   "metadata": {},
   "outputs": [],
   "source": [
    "team_data2425 = matches2425.merge(shooting2425[[\"Date\", \"Sh\", \"SoT\", \"Dist\", \"FK\", \"PK\", \"PKatt\"]], on=\"Date\")"
   ]
  },
  {
   "cell_type": "code",
   "execution_count": null,
   "id": "6bbf78e4-7a37-4faa-88b8-fa34a04729e7",
   "metadata": {},
   "outputs": [],
   "source": [
    "years = list(range(2025, 2020, -1))\n",
    "all_matches = []\n",
    "standings_url = \"https://fbref.com/en/comps/9/Premier-League-Stats\""
   ]
  },
  {
   "cell_type": "code",
   "execution_count": null,
   "id": "56275329-d6dd-49f2-ac04-ee4357be93b2",
   "metadata": {},
   "outputs": [],
   "source": [
    "import time\n",
    "for year in years:\n",
    "    data = requests.get(standings_url)\n",
    "    soup = BeautifulSoup(data.text)\n",
    "    standings_table = soup.select('table.stats_table')[0]\n",
    "\n",
    "    links = [l.get(\"href\") for l in standings_table.find_all('a')]\n",
    "    links = [l for l in links if '/squads/' in l]\n",
    "    team_urls = [f\"https://fbref.com{l}\" for l in links]\n",
    "    \n",
    "    previous_season = soup.select(\"a.prev\")[0].get(\"href\")\n",
    "    standings_url = f\"https://fbref.com{previous_season}\"\n",
    "    \n",
    "    for team_url in team_urls:\n",
    "        team_name = team_url.split(\"/\")[-1].replace(\"-Stats\", \"\").replace(\"-\", \" \")\n",
    "        data = requests.get(team_url)\n",
    "        matches = pd.read_html(data.text, match=\"Scores & Fixtures\")[0]\n",
    "        soup = BeautifulSoup(data.text)\n",
    "        links = [l.get(\"href\") for l in soup.find_all('a')]\n",
    "        links = [l for l in links if l and 'all_comps/shooting/' in l]\n",
    "        data = requests.get(f\"https://fbref.com{links[0]}\")\n",
    "        shooting = pd.read_html(data.text, match=\"Shooting\")[0]\n",
    "        shooting.columns = shooting.columns.droplevel()\n",
    "        try:\n",
    "            team_data = matches.merge(shooting[[\"Date\", \"Sh\", \"SoT\", \"Dist\", \"FK\", \"PK\", \"PKatt\"]], on=\"Date\")\n",
    "        except ValueError:\n",
    "            continue\n",
    "        team_data = team_data[team_data[\"Comp\"] == \"Premier League\"]\n",
    "        \n",
    "        team_data[\"Season\"] = year\n",
    "        team_data[\"Team\"] = team_name\n",
    "        all_matches.append(team_data)\n",
    "        time.sleep(10)"
   ]
  }
 ],
 "metadata": {
  "kernelspec": {
   "display_name": "Python 3 (ipykernel)",
   "language": "python",
   "name": "python3"
  },
  "language_info": {
   "codemirror_mode": {
    "name": "ipython",
    "version": 3
   },
   "file_extension": ".py",
   "mimetype": "text/x-python",
   "name": "python",
   "nbconvert_exporter": "python",
   "pygments_lexer": "ipython3",
   "version": "3.13.2"
  }
 },
 "nbformat": 4,
 "nbformat_minor": 5
}
